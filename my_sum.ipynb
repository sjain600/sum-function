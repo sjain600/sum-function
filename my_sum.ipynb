{
 "cells": [
  {
   "cell_type": "markdown",
   "id": "89191281",
   "metadata": {},
   "source": [
    "# This is a basic mini project about building a sum function.\n"
   ]
  },
  {
   "cell_type": "code",
   "execution_count": 2,
   "id": "cf88f821",
   "metadata": {},
   "outputs": [],
   "source": [
    "def my_sum(numbers):\n",
    "    \"\"\"This function calculates the sum of a list of numbers.\"\"\"\n",
    "    total = 0\n",
    "    for number in numbers:\n",
    "        total += number\n",
    "    return total"
   ]
  },
  {
   "cell_type": "code",
   "execution_count": 3,
   "id": "30fd0c55",
   "metadata": {},
   "outputs": [
    {
     "data": {
      "text/plain": [
       "782"
      ]
     },
     "execution_count": 3,
     "metadata": {},
     "output_type": "execute_result"
    }
   ],
   "source": [
    "list_of_numbers = [2, 34, 567, 89, 34, 56]\n",
    "my_sum(list_of_numbers)"
   ]
  },
  {
   "cell_type": "code",
   "execution_count": 6,
   "id": "f39072ad",
   "metadata": {},
   "outputs": [
    {
     "data": {
      "text/plain": [
       "1038"
      ]
     },
     "execution_count": 6,
     "metadata": {},
     "output_type": "execute_result"
    }
   ],
   "source": [
    "nested_list = [2, (3 * 4), (34+670) + 320]\n",
    "my_sum(nested_list)"
   ]
  },
  {
   "cell_type": "code",
   "execution_count": 7,
   "id": "42ad640c",
   "metadata": {},
   "outputs": [
    {
     "data": {
      "text/plain": [
       "2286.5555555555557"
      ]
     },
     "execution_count": 7,
     "metadata": {},
     "output_type": "execute_result"
    }
   ],
   "source": [
    "complex_nested_list = [2, (3 + (45+ 67 + (34*67)) - 100 + (4 - (10 + 10 - (34/4.5))))]\n",
    "my_sum(complex_nested_list)"
   ]
  }
 ],
 "metadata": {
  "kernelspec": {
   "display_name": "base",
   "language": "python",
   "name": "python3"
  },
  "language_info": {
   "codemirror_mode": {
    "name": "ipython",
    "version": 3
   },
   "file_extension": ".py",
   "mimetype": "text/x-python",
   "name": "python",
   "nbconvert_exporter": "python",
   "pygments_lexer": "ipython3",
   "version": "3.12.7"
  }
 },
 "nbformat": 4,
 "nbformat_minor": 5
}
